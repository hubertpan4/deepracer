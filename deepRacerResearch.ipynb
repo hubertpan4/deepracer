{
 "cells": [
  {
   "cell_type": "markdown",
   "metadata": {},
   "source": [
    "# Deepracer Dev Log\n",
    "[_Congrats Richard U., you've managed to nerd snipe me._](https://xkcd.com/356/)\n",
    "\n",
    "Hi this is a dev log for the _redacted_ 2024 DeepRacer competition.\n",
    "\n",
    "DeepRacer is an AWS platform used to introduce developers to Reinforcement Learning.\n",
    "Basically Reinforcement learning is automated supervised learning in the sense that supervised training data is automatically generated from and fed back into the training process.\n",
    "In the case of DeepRacer, we are training a neural network to race a car through an arbitrary track using video image data.\n",
    "The outcome of its actions will depend on its \n"
   ]
  }
 ],
 "metadata": {
  "language_info": {
   "name": "python"
  }
 },
 "nbformat": 4,
 "nbformat_minor": 2
}
